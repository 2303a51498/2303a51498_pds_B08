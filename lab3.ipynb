{
  "nbformat": 4,
  "nbformat_minor": 0,
  "metadata": {
    "colab": {
      "provenance": [],
      "authorship_tag": "ABX9TyPh6KhFSE5VfoVxOTL8zC8f",
      "include_colab_link": true
    },
    "kernelspec": {
      "name": "python3",
      "display_name": "Python 3"
    },
    "language_info": {
      "name": "python"
    }
  },
  "cells": [
    {
      "cell_type": "markdown",
      "metadata": {
        "id": "view-in-github",
        "colab_type": "text"
      },
      "source": [
        "<a href=\"https://colab.research.google.com/github/2303a51498/2303a51498_pds_B08/blob/main/lab3.ipynb\" target=\"_parent\"><img src=\"https://colab.research.google.com/assets/colab-badge.svg\" alt=\"Open In Colab\"/></a>"
      ]
    },
    {
      "cell_type": "markdown",
      "source": [
        "1st question"
      ],
      "metadata": {
        "id": "rU0dxYtUV9O4"
      }
    },
    {
      "cell_type": "code",
      "execution_count": 1,
      "metadata": {
        "colab": {
          "base_uri": "https://localhost:8080/"
        },
        "id": "gfU_jGdgV8AV",
        "outputId": "3da30851-ce5c-405e-f6b6-89cfb8fd0909"
      },
      "outputs": [
        {
          "output_type": "stream",
          "name": "stdout",
          "text": [
            "Matrix A:\n",
            " [[ 1  1  9]\n",
            " [ 1  9  4]\n",
            " [ 6 10  1]]\n",
            "Matrix B:\n",
            " [[4 4 9]\n",
            " [4 7 3]\n",
            " [9 4 8]]\n"
          ]
        }
      ],
      "source": [
        "import numpy as np\n",
        "A = np.random.randint(1, 11, (3, 3))\n",
        "B = np.random.randint(1, 11, (3, 3))\n",
        "\n",
        "print(\"Matrix A:\\n\", A)\n",
        "print(\"Matrix B:\\n\", B)\n"
      ]
    },
    {
      "cell_type": "code",
      "source": [
        "add_result = np.add(A, B)\n",
        "print( add_result)"
      ],
      "metadata": {
        "colab": {
          "base_uri": "https://localhost:8080/"
        },
        "id": "RTd-5aHQWHcg",
        "outputId": "3ad2deab-834e-4874-c528-14516ba36850"
      },
      "execution_count": 2,
      "outputs": [
        {
          "output_type": "stream",
          "name": "stdout",
          "text": [
            "[[ 5  5 18]\n",
            " [ 5 16  7]\n",
            " [15 14  9]]\n"
          ]
        }
      ]
    },
    {
      "cell_type": "code",
      "source": [
        "sub_result = np.subtract(A, B)\n",
        "print( sub_result)"
      ],
      "metadata": {
        "colab": {
          "base_uri": "https://localhost:8080/"
        },
        "id": "_hMQs3aDWK76",
        "outputId": "bb36e0ac-f81d-4d3b-a034-da695501f4a0"
      },
      "execution_count": 3,
      "outputs": [
        {
          "output_type": "stream",
          "name": "stdout",
          "text": [
            "[[-3 -3  0]\n",
            " [-3  2  1]\n",
            " [-3  6 -7]]\n"
          ]
        }
      ]
    },
    {
      "cell_type": "code",
      "source": [
        "manual_add = A[0,0] + B[0,0]\n",
        "manual_sub = A[0,0] - B[0,0]\n",
        "\n",
        "print(f\"Manual check for position [0,0]: {A[0,0]} + {B[0,0]} = {manual_add}\")\n",
        "print(f\"Manual check for position [0,0]: {A[0,0]} - {B[0,0]} = {manual_sub}\")"
      ],
      "metadata": {
        "colab": {
          "base_uri": "https://localhost:8080/"
        },
        "id": "4hHDBfnhWT0y",
        "outputId": "616eb3f7-81a1-4abb-cf6c-434928cf4473"
      },
      "execution_count": 4,
      "outputs": [
        {
          "output_type": "stream",
          "name": "stdout",
          "text": [
            "Manual check for position [0,0]: 1 + 4 = 5\n",
            "Manual check for position [0,0]: 1 - 4 = -3\n"
          ]
        }
      ]
    },
    {
      "cell_type": "markdown",
      "source": [
        "2nd question"
      ],
      "metadata": {
        "id": "6HPzC46_WY9K"
      }
    },
    {
      "cell_type": "code",
      "source": [
        "import numpy as np\n",
        "A = np.random.randint(1, 10, (3, 2))\n",
        "B = np.random.randint(1, 10, (2, 3))\n",
        "\n",
        "print(\"Matrix A (3x2):\\n\", A)\n",
        "print(\"Matrix B (2x3):\\n\", B)"
      ],
      "metadata": {
        "colab": {
          "base_uri": "https://localhost:8080/"
        },
        "id": "4CNJ75gdWVam",
        "outputId": "a895956a-3903-4fa9-963c-c38a743fd407"
      },
      "execution_count": 5,
      "outputs": [
        {
          "output_type": "stream",
          "name": "stdout",
          "text": [
            "Matrix A (3x2):\n",
            " [[4 5]\n",
            " [1 7]\n",
            " [9 1]]\n",
            "Matrix B (2x3):\n",
            " [[5 9 8]\n",
            " [1 7 4]]\n"
          ]
        }
      ]
    },
    {
      "cell_type": "code",
      "source": [
        "C = np.dot(A, B)\n",
        "print(\"Result of A x B (3x3):\\n\", C)"
      ],
      "metadata": {
        "colab": {
          "base_uri": "https://localhost:8080/"
        },
        "id": "2bBsisK7Wd8M",
        "outputId": "5d9c4dfa-0337-4aa4-cdb4-0a29978f1074"
      },
      "execution_count": 6,
      "outputs": [
        {
          "output_type": "stream",
          "name": "stdout",
          "text": [
            "Result of A x B (3x3):\n",
            " [[25 71 52]\n",
            " [12 58 36]\n",
            " [46 88 76]]\n"
          ]
        }
      ]
    },
    {
      "cell_type": "code",
      "source": [
        "print(\"Shape of A:\", A.shape)\n",
        "print(\"Shape of B:\", B.shape)\n",
        "print(\"Shape of Result:\", C.shape)"
      ],
      "metadata": {
        "colab": {
          "base_uri": "https://localhost:8080/"
        },
        "id": "POQ2pa-yWff7",
        "outputId": "89ec439e-8e24-4e25-e507-7b086e936271"
      },
      "execution_count": 7,
      "outputs": [
        {
          "output_type": "stream",
          "name": "stdout",
          "text": [
            "Shape of A: (3, 2)\n",
            "Shape of B: (2, 3)\n",
            "Shape of Result: (3, 3)\n"
          ]
        }
      ]
    },
    {
      "cell_type": "code",
      "source": [
        "manual_check = A[0,0]*B[0,0] + A[0,1]*B[1,0]\n",
        "print(f\"Manual check for C[0,0]: {manual_check} vs {C[0,0]}\")"
      ],
      "metadata": {
        "colab": {
          "base_uri": "https://localhost:8080/"
        },
        "id": "Cy6TioXTWkaA",
        "outputId": "aa29dff4-1c47-433d-f022-d06b53d84c4e"
      },
      "execution_count": 8,
      "outputs": [
        {
          "output_type": "stream",
          "name": "stdout",
          "text": [
            "Manual check for C[0,0]: 25 vs 25\n"
          ]
        }
      ]
    }
  ]
}