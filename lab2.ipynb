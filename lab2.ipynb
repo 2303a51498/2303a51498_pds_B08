{
  "nbformat": 4,
  "nbformat_minor": 0,
  "metadata": {
    "colab": {
      "provenance": [],
      "authorship_tag": "ABX9TyPtRV+aP3S+5ipW1KFtKpUm",
      "include_colab_link": true
    },
    "kernelspec": {
      "name": "python3",
      "display_name": "Python 3"
    },
    "language_info": {
      "name": "python"
    }
  },
  "cells": [
    {
      "cell_type": "markdown",
      "metadata": {
        "id": "view-in-github",
        "colab_type": "text"
      },
      "source": [
        "<a href=\"https://colab.research.google.com/github/2303a51498/2303a51498_pds_B08/blob/main/lab2.ipynb\" target=\"_parent\"><img src=\"https://colab.research.google.com/assets/colab-badge.svg\" alt=\"Open In Colab\"/></a>"
      ]
    },
    {
      "cell_type": "markdown",
      "source": [
        "1st question"
      ],
      "metadata": {
        "id": "z7eJOckw2hVL"
      }
    },
    {
      "cell_type": "code",
      "source": [
        "import numpy as np\n",
        "marks = np.array([\n",
        "    [85, 78, 92],\n",
        "    [76, 88, 90],\n",
        "    [90, 67, 85],\n",
        "    [60, 75, 70],\n",
        "    [95, 89, 96]\n",
        "])\n",
        "\n",
        "print(\"Marks Array:\\n\", marks)"
      ],
      "metadata": {
        "id": "wNRJpHCY2BRH",
        "outputId": "4cc5ab28-e458-4340-a4df-b22423cdcd51",
        "colab": {
          "base_uri": "https://localhost:8080/"
        }
      },
      "execution_count": 1,
      "outputs": [
        {
          "output_type": "stream",
          "name": "stdout",
          "text": [
            "Marks Array:\n",
            " [[85 78 92]\n",
            " [76 88 90]\n",
            " [90 67 85]\n",
            " [60 75 70]\n",
            " [95 89 96]]\n"
          ]
        }
      ]
    },
    {
      "cell_type": "code",
      "source": [
        "import numpy as np\n",
        "\n",
        "marks = np.array([\n",
        "    [85, 78, 92],\n",
        "    [76, 88, 90],\n",
        "    [90, 67, 85],\n",
        "    [60, 75, 70],\n",
        "    [95, 89, 96]\n",
        "])\n",
        "\n",
        "print(\"Average Marks:\", np.mean(marks))\n",
        "print(\"Minimum Marks:\", np.min(marks))\n",
        "print(\"Maximum Marks:\", np.max(marks))"
      ],
      "metadata": {
        "id": "HKKLe9G93EM0",
        "outputId": "3b21aa6d-85cc-4db3-8616-be0200430d94",
        "colab": {
          "base_uri": "https://localhost:8080/"
        }
      },
      "execution_count": 2,
      "outputs": [
        {
          "output_type": "stream",
          "name": "stdout",
          "text": [
            "Average Marks: 82.4\n",
            "Minimum Marks: 60\n",
            "Maximum Marks: 96\n"
          ]
        }
      ]
    },
    {
      "cell_type": "code",
      "source": [
        "import numpy as np\n",
        "\n",
        "marks = np.array([\n",
        "    [85, 78, 92],\n",
        "    [76, 88, 90],\n",
        "    [90, 67, 85],\n",
        "    [60, 75, 70],\n",
        "    [95, 89, 96]\n",
        "])\n",
        "print(\"Student 2 Marks:\", marks[1, :])\n",
        "print(\"First 3 Students - Subject 1 Marks:\", marks[:3, 0])"
      ],
      "metadata": {
        "id": "zjn-mEa-3Oa9",
        "outputId": "f3d4be89-4282-4837-c6e3-60b3fb87136e",
        "colab": {
          "base_uri": "https://localhost:8080/"
        }
      },
      "execution_count": 3,
      "outputs": [
        {
          "output_type": "stream",
          "name": "stdout",
          "text": [
            "Student 2 Marks: [76 88 90]\n",
            "First 3 Students - Subject 1 Marks: [85 76 90]\n"
          ]
        }
      ]
    },
    {
      "cell_type": "code",
      "source": [
        "import numpy as np\n",
        "\n",
        "marks = np.array([\n",
        "    [85, 78, 92],\n",
        "    [76, 88, 90],\n",
        "    [90, 67, 85],\n",
        "    [60, 75, 70],\n",
        "    [95, 89, 96]\n",
        "])\n",
        "mask = np.any(marks > 80, axis=1)\n",
        "print(\"Students scoring above 80 in at least one subject:\\n\", marks[mask])"
      ],
      "metadata": {
        "id": "-MjMqVJL3b2Z",
        "outputId": "4236a95e-0dd0-4307-a18b-73798b88d159",
        "colab": {
          "base_uri": "https://localhost:8080/"
        }
      },
      "execution_count": 4,
      "outputs": [
        {
          "output_type": "stream",
          "name": "stdout",
          "text": [
            "Students scoring above 80 in at least one subject:\n",
            " [[85 78 92]\n",
            " [76 88 90]\n",
            " [90 67 85]\n",
            " [95 89 96]]\n"
          ]
        }
      ]
    },
    {
      "cell_type": "code",
      "source": [
        "import numpy as np\n",
        "\n",
        "marks = np.array([\n",
        "    [85, 78, 92],\n",
        "    [76, 88, 90],\n",
        "    [90, 67, 85],\n",
        "    [60, 75, 70],\n",
        "    [95, 89, 96]\n",
        "])\n",
        "\n",
        "reshaped = marks.T\n",
        "print(\"Subject-wise Performance (reshaped):\\n\", reshaped)"
      ],
      "metadata": {
        "id": "-gIu1CaP4XZb",
        "outputId": "6d00f544-5c0f-46c8-ae72-ced98c68f544",
        "colab": {
          "base_uri": "https://localhost:8080/"
        }
      },
      "execution_count": 5,
      "outputs": [
        {
          "output_type": "stream",
          "name": "stdout",
          "text": [
            "Subject-wise Performance (reshaped):\n",
            " [[85 76 90 60 95]\n",
            " [78 88 67 75 89]\n",
            " [92 90 85 70 96]]\n"
          ]
        }
      ]
    },
    {
      "cell_type": "markdown",
      "source": [
        "2nd question"
      ],
      "metadata": {
        "id": "PVSMSLSY4pkI"
      }
    },
    {
      "cell_type": "code",
      "source": [
        "import pandas as pd\n",
        "\n",
        "data = {\n",
        "    \"Name\": [\"Alice\", \"Bob\", \"Charlie\", \"David\", \"Eva\"],\n",
        "    \"ID\": [101, 102, 103, 104, 105],\n",
        "    \"Department\": [\"HR\", \"IT\", \"Finance\", \"IT\", \"Marketing\"],\n",
        "    \"Salary\": [45000, 60000, 52000, 48000, 75000]\n",
        "}\n",
        "\n",
        "df = pd.DataFrame(data)\n",
        "print(\"Employee DataFrame:\\n\", df)\n",
        "\n",
        "\n",
        "\n",
        "high_salary = df[df[\"Salary\"] > 50000]\n",
        "print(\"\\nEmployees with Salary > 50,000:\\n\", high_salary)\n",
        "\n",
        "sorted_df = df.sort_values(by=\"Salary\", ascending=False)\n",
        "print(\"\\nSorted by Salary (Descending):\\n\", sorted_df)\n",
        "\n",
        "\n",
        "\n",
        "df[\"Bonus\"] = df[\"Salary\"] * 0.10\n",
        "print(\"\\nDataFrame with Bonus Column:\\n\", df)\n",
        "\n",
        "df[\"Bonus\"] = df[\"Salary\"] * 0.10\n",
        "total_expense = (df[\"Salary\"] + df[\"Bonus\"]).sum()\n",
        "print(\"\\nTotal Salary Expense (including Bonus):\", total_expense)\n",
        "\n",
        "\n",
        "df[\"Bonus\"] = df[\"Salary\"] * 0.10\n",
        "df.to_csv(\"employee_salaries.csv\", index=False)\n",
        "\n",
        "print(\"DataFrame saved to employee_salaries.csv\")"
      ],
      "metadata": {
        "id": "2-uBsQQ44rXk",
        "outputId": "575f0cab-10b9-44eb-e6ad-4fe22854ade8",
        "colab": {
          "base_uri": "https://localhost:8080/"
        }
      },
      "execution_count": 16,
      "outputs": [
        {
          "output_type": "stream",
          "name": "stdout",
          "text": [
            "Employee DataFrame:\n",
            "       Name   ID Department  Salary\n",
            "0    Alice  101         HR   45000\n",
            "1      Bob  102         IT   60000\n",
            "2  Charlie  103    Finance   52000\n",
            "3    David  104         IT   48000\n",
            "4      Eva  105  Marketing   75000\n",
            "\n",
            "Employees with Salary > 50,000:\n",
            "       Name   ID Department  Salary\n",
            "1      Bob  102         IT   60000\n",
            "2  Charlie  103    Finance   52000\n",
            "4      Eva  105  Marketing   75000\n",
            "\n",
            "Sorted by Salary (Descending):\n",
            "       Name   ID Department  Salary\n",
            "4      Eva  105  Marketing   75000\n",
            "1      Bob  102         IT   60000\n",
            "2  Charlie  103    Finance   52000\n",
            "3    David  104         IT   48000\n",
            "0    Alice  101         HR   45000\n",
            "\n",
            "DataFrame with Bonus Column:\n",
            "       Name   ID Department  Salary   Bonus\n",
            "0    Alice  101         HR   45000  4500.0\n",
            "1      Bob  102         IT   60000  6000.0\n",
            "2  Charlie  103    Finance   52000  5200.0\n",
            "3    David  104         IT   48000  4800.0\n",
            "4      Eva  105  Marketing   75000  7500.0\n",
            "\n",
            "Total Salary Expense (including Bonus): 308000.0\n",
            "DataFrame saved to employee_salaries.csv\n"
          ]
        }
      ]
    },
    {
      "cell_type": "markdown",
      "source": [
        "3rd question"
      ],
      "metadata": {
        "id": "wSyJmCtp6UZ5"
      }
    },
    {
      "cell_type": "code",
      "source": [
        "import numpy as np\n",
        "\n",
        "temps = np.array([15, 18, 22, 28, 32, 35, 34, 33, 30, 25, 20, 16])\n",
        "print(\"Monthly Temperatures (°C):\", temps)\n",
        "\n",
        "avg_temp = np.mean(temps)\n",
        "hottest = np.max(temps)\n",
        "coldest = np.min(temps)\n",
        "\n",
        "print(\"\\nAverage Temperature:\", avg_temp)\n",
        "print(\"\\nHottest Temperature:\", hottest)\n",
        "print(\"\\nColdest Temperature:\", coldest)\n",
        "\n",
        "normalized = (temps - np.min(temps)) / (np.max(temps) - np.min(temps))\n",
        "print(\"\\nNormalized Temperatures:\", normalized)"
      ],
      "metadata": {
        "id": "um5j97zf6Wau",
        "outputId": "1f983336-7f57-4ab1-f346-3c622b727940",
        "colab": {
          "base_uri": "https://localhost:8080/"
        }
      },
      "execution_count": 19,
      "outputs": [
        {
          "output_type": "stream",
          "name": "stdout",
          "text": [
            "Monthly Temperatures (°C): [15 18 22 28 32 35 34 33 30 25 20 16]\n",
            "\n",
            "Average Temperature: 25.666666666666668\n",
            "\n",
            "Hottest Temperature: 35\n",
            "\n",
            "Coldest Temperature: 15\n",
            "\n",
            "Normalized Temperatures: [0.   0.15 0.35 0.65 0.85 1.   0.95 0.9  0.75 0.5  0.25 0.05]\n"
          ]
        }
      ]
    },
    {
      "cell_type": "code",
      "source": [
        "import numpy as np\n",
        "import matplotlib.pyplot as plt\n",
        "\n",
        "temps = np.array([15, 18, 22, 28, 32, 35, 34, 33, 30, 25, 20, 16])\n",
        "months = np.arange(1, 13)\n",
        "\n",
        "plt.plot(months, temps, marker=\"o\")\n",
        "plt.xlabel(\"Month\")\n",
        "plt.ylabel(\"Temperature (°C)\")\n",
        "plt.title(\"Monthly Temperature Trend\")\n",
        "plt.show()"
      ],
      "metadata": {
        "id": "Lx1qkbe567sM",
        "outputId": "a80641e1-7288-4764-9402-ff24bd2cd7c4",
        "colab": {
          "base_uri": "https://localhost:8080/",
          "height": 472
        }
      },
      "execution_count": 20,
      "outputs": [
        {
          "output_type": "display_data",
          "data": {
            "text/plain": [
              "<Figure size 640x480 with 1 Axes>"
            ],
            "image/png": "[encoded data removed]"
          },
          "metadata": {}
        }
      ]
    },
    {
      "cell_type": "code",
      "source": [
        "import numpy as np\n",
        "\n",
        "temps = np.array([15, 18, 22, 28, 32, 35, 34, 33, 30, 25, 20, 16])\n",
        "\n",
        "avg_temp = np.mean(temps)\n",
        "above_avg = np.where(temps > avg_temp)[0] + 1  # +1 for month numbers\n",
        "print(\"Months above annual average:\", above_avg)"
      ],
      "metadata": {
        "id": "iWgmoxfM7kNi",
        "outputId": "9ddc1d1f-521b-47d8-bb88-511455ea7b20",
        "colab": {
          "base_uri": "https://localhost:8080/"
        }
      },
      "execution_count": 23,
      "outputs": [
        {
          "output_type": "stream",
          "name": "stdout",
          "text": [
            "Months above annual average: [4 5 6 7 8 9]\n"
          ]
        }
      ]
    },
    {
      "cell_type": "code",
      "source": [
        "import numpy as np\n",
        "\n",
        "temps_c = np.array([15, 18, 22, 28, 32, 35, 34, 33, 30, 25, 20, 16])\n",
        "temps_f = (temps_c * 9/5) + 32\n",
        "\n",
        "print(\"Temperatures in Celsius:\", temps_c)\n",
        "print(\"Temperatures in Fahrenheit:\", temps_f)"
      ],
      "metadata": {
        "id": "iekEb6iz7kKW",
        "outputId": "1264363f-8384-435d-9f77-42303935aeb0",
        "colab": {
          "base_uri": "https://localhost:8080/"
        }
      },
      "execution_count": 24,
      "outputs": [
        {
          "output_type": "stream",
          "name": "stdout",
          "text": [
            "Temperatures in Celsius: [15 18 22 28 32 35 34 33 30 25 20 16]\n",
            "Temperatures in Fahrenheit: [59.  64.4 71.6 82.4 89.6 95.  93.2 91.4 86.  77.  68.  60.8]\n"
          ]
        }
      ]
    },
    {
      "cell_type": "markdown",
      "source": [
        "4th question"
      ],
      "metadata": {
        "id": "eqnE2FSI8FO0"
      }
    },
    {
      "cell_type": "code",
      "source": [
        "import pandas as pd\n",
        "data = {\n",
        "    \"OrderID\": [101, 102, 103, 104, 105],\n",
        "    \"Product\": [\"Laptop\", \"Phone\", \"Tablet\", \"Laptop\", \"Phone\"],\n",
        "    \"Quantity\": [2, 5, 3, 1, 10],\n",
        "    \"Price\": [50000, 15000, 20000, 50000, 15000]\n",
        "}\n",
        "\n",
        "df = pd.DataFrame(data)\n",
        "print(\"Original DataFrame:\\n\", df)\n",
        "\n",
        "df[\"TotalSale\"] = df[\"Quantity\"] * df[\"Price\"]\n",
        "print(\"\\nWith TotalSale Column:\\n\", df)\n",
        "\n",
        "\n",
        "high_sales = df[df[\"TotalSale\"] > 1000]\n",
        "print(\"\\n\\nOrders with TotalSale > 1000:\\n\", high_sales)\n",
        "\n",
        "\n",
        "most_sold = df.groupby(\"Product\")[\"Quantity\"].sum().idxmax()\n",
        "print(\"\\n\\nMost Sold Product:\", most_sold)"
      ],
      "metadata": {
        "id": "Ox8WacLq8Gy5",
        "outputId": "ec4005a3-e535-4e10-f1e8-2b4c25c7d9d2",
        "colab": {
          "base_uri": "https://localhost:8080/"
        }
      },
      "execution_count": 31,
      "outputs": [
        {
          "output_type": "stream",
          "name": "stdout",
          "text": [
            "Original DataFrame:\n",
            "    OrderID Product  Quantity  Price\n",
            "0      101  Laptop         2  50000\n",
            "1      102   Phone         5  15000\n",
            "2      103  Tablet         3  20000\n",
            "3      104  Laptop         1  50000\n",
            "4      105   Phone        10  15000\n",
            "\n",
            "With TotalSale Column:\n",
            "    OrderID Product  Quantity  Price  TotalSale\n",
            "0      101  Laptop         2  50000     100000\n",
            "1      102   Phone         5  15000      75000\n",
            "2      103  Tablet         3  20000      60000\n",
            "3      104  Laptop         1  50000      50000\n",
            "4      105   Phone        10  15000     150000\n",
            "\n",
            "\n",
            "Orders with TotalSale > 1000:\n",
            "    OrderID Product  Quantity  Price  TotalSale\n",
            "0      101  Laptop         2  50000     100000\n",
            "1      102   Phone         5  15000      75000\n",
            "2      103  Tablet         3  20000      60000\n",
            "3      104  Laptop         1  50000      50000\n",
            "4      105   Phone        10  15000     150000\n",
            "\n",
            "\n",
            "Most Sold Product: Phone\n"
          ]
        }
      ]
    },
    {
      "cell_type": "code",
      "source": [
        "df[\"Discount\"] = df[\"TotalSale\"].apply(lambda x: x * 0.1 if x > 50000 else x * 0.05)\n",
        "print(\"With Discount Column:\\n\", df)"
      ],
      "metadata": {
        "id": "thDKMHwI8w_O",
        "outputId": "fbb4dbd0-99af-4860-9bb3-4a8cc67125fe",
        "colab": {
          "base_uri": "https://localhost:8080/"
        }
      },
      "execution_count": 32,
      "outputs": [
        {
          "output_type": "stream",
          "name": "stdout",
          "text": [
            "With Discount Column:\n",
            "    OrderID Product  Quantity  Price  TotalSale  Discount\n",
            "0      101  Laptop         2  50000     100000   10000.0\n",
            "1      102   Phone         5  15000      75000    7500.0\n",
            "2      103  Tablet         3  20000      60000    6000.0\n",
            "3      104  Laptop         1  50000      50000    2500.0\n",
            "4      105   Phone        10  15000     150000   15000.0\n"
          ]
        }
      ]
    },
    {
      "cell_type": "code",
      "source": [
        "df.to_excel(\"ecommerce_sales_summary.xlsx\", index=False)\n",
        "print(\" Data exported to ecommerce_sales_summary.xlsx\")"
      ],
      "metadata": {
        "id": "_YGagy9A8yWN",
        "outputId": "d02a4d28-cb4c-466b-eb74-dccf4541ebf5",
        "colab": {
          "base_uri": "https://localhost:8080/"
        }
      },
      "execution_count": 33,
      "outputs": [
        {
          "output_type": "stream",
          "name": "stdout",
          "text": [
            " Data exported to ecommerce_sales_summary.xlsx\n"
          ]
        }
      ]
    },
    {
      "cell_type": "markdown",
      "source": [
        "5th question"
      ],
      "metadata": {
        "id": "HyMjCpDz85I0"
      }
    },
    {
      "cell_type": "code",
      "source": [
        "import pandas as pd\n",
        "budget_data = {\n",
        "    \"Department\": [\"HR\", \"IT\", \"Finance\", \"Sales\", \"Marketing\"],\n",
        "    \"Budget\": [50000, 120000, 80000, 150000, 60000]\n",
        "}\n",
        "\n",
        "budget_df = pd.DataFrame(budget_data)\n",
        "print(\"Department Budget:\\n\", budget_df)"
      ],
      "metadata": {
        "id": "1ls0TosO83ck",
        "outputId": "202c48bb-528f-4629-de4e-e96c5b6314c4",
        "colab": {
          "base_uri": "https://localhost:8080/"
        }
      },
      "execution_count": 34,
      "outputs": [
        {
          "output_type": "stream",
          "name": "stdout",
          "text": [
            "Department Budget:\n",
            "   Department  Budget\n",
            "0         HR   50000\n",
            "1         IT  120000\n",
            "2    Finance   80000\n",
            "3      Sales  150000\n",
            "4  Marketing   60000\n"
          ]
        }
      ]
    },
    {
      "cell_type": "code",
      "source": [
        "expense_data = {\n",
        "      \"Department\": [\"HR\", \"IT\", \"Finance\", \"Sales\", \"Marketing\"],\n",
        "      \"Actual\": [55000, 110000, 90000, 160000, 45000]\n",
        "}\n",
        "\n",
        "expense_df = pd.DataFrame(expense_data)\n",
        "print(\"Actual Expenses:\\n\", expense_df)\n"
      ],
      "metadata": {
        "id": "7hN53oM09aIj",
        "outputId": "0b12a415-69eb-4401-b132-b2a3990485a2",
        "colab": {
          "base_uri": "https://localhost:8080/"
        }
      },
      "execution_count": 37,
      "outputs": [
        {
          "output_type": "stream",
          "name": "stdout",
          "text": [
            "Actual Expenses:\n",
            "   Department  Actual\n",
            "0         HR   55000\n",
            "1         IT  110000\n",
            "2    Finance   90000\n",
            "3      Sales  160000\n",
            "4  Marketing   45000\n"
          ]
        }
      ]
    },
    {
      "cell_type": "code",
      "source": [
        "merged_df = pd.merge(budget_df, expense_df, on=\"Department\")\n",
        "print(\"Merged Data:\\n\", merged_df)\n",
        "\n",
        "merged_df[\"Variance\"] = merged_df[\"Actual\"] - merged_df[\"Budget\"]\n",
        "print(\"\\n\\nWith Variance:\\n\", merged_df)"
      ],
      "metadata": {
        "id": "VCN9Fj5b9lTg",
        "outputId": "5605e3d3-c0a4-482c-c4cb-e298269ec760",
        "colab": {
          "base_uri": "https://localhost:8080/"
        }
      },
      "execution_count": 39,
      "outputs": [
        {
          "output_type": "stream",
          "name": "stdout",
          "text": [
            "Merged Data:\n",
            "   Department  Budget  Actual\n",
            "0         HR   50000   55000\n",
            "1         IT  120000  110000\n",
            "2    Finance   80000   90000\n",
            "3      Sales  150000  160000\n",
            "4  Marketing   60000   45000\n",
            "\n",
            "\n",
            "With Variance:\n",
            "   Department  Budget  Actual  Variance\n",
            "0         HR   50000   55000      5000\n",
            "1         IT  120000  110000    -10000\n",
            "2    Finance   80000   90000     10000\n",
            "3      Sales  150000  160000     10000\n",
            "4  Marketing   60000   45000    -15000\n"
          ]
        }
      ]
    },
    {
      "cell_type": "code",
      "source": [
        "over_budget = merged_df[merged_df[\"Variance\"] > 0]\n",
        "print(\"Departments Exceeding Budget:\\n\", over_budget)\n",
        "\n",
        "\n",
        "sorted_df = merged_df.sort_values(by=\"Variance\", ascending=False)\n",
        "print(\"\\n\\tDepartments Sorted by Variance:\\n\", sorted_df)"
      ],
      "metadata": {
        "id": "9TSEpb9m9zHn",
        "outputId": "def9bcd3-3a1e-480a-dedc-970e3ef0f573",
        "colab": {
          "base_uri": "https://localhost:8080/"
        }
      },
      "execution_count": 41,
      "outputs": [
        {
          "output_type": "stream",
          "name": "stdout",
          "text": [
            "Departments Exceeding Budget:\n",
            "   Department  Budget  Actual  Variance\n",
            "0         HR   50000   55000      5000\n",
            "2    Finance   80000   90000     10000\n",
            "3      Sales  150000  160000     10000\n",
            "\n",
            "\tDepartments Sorted by Variance:\n",
            "   Department  Budget  Actual  Variance\n",
            "2    Finance   80000   90000     10000\n",
            "3      Sales  150000  160000     10000\n",
            "0         HR   50000   55000      5000\n",
            "1         IT  120000  110000    -10000\n",
            "4  Marketing   60000   45000    -15000\n"
          ]
        }
      ]
    },
    {
      "cell_type": "code",
      "source": [
        "import matplotlib.pyplot as plt\n",
        "\n",
        "plt.bar(merged_df[\"Department\"], merged_df[\"Budget\"], label=\"Budget\")\n",
        "plt.bar(merged_df[\"Department\"], merged_df[\"Actual\"], alpha=0.7, label=\"Actual\")\n",
        "plt.xlabel(\"Department\")\n",
        "plt.ylabel(\"Amount\")\n",
        "plt.title(\"Budget vs Actual Expenses\")\n",
        "plt.legend()\n",
        "plt.show()\n"
      ],
      "metadata": {
        "id": "L_cPuHMq90yr",
        "outputId": "19651683-7a55-4966-fe8c-e73b25f63c5c",
        "colab": {
          "base_uri": "https://localhost:8080/",
          "height": 472
        }
      },
      "execution_count": 42,
      "outputs": [
        {
          "output_type": "display_data",
          "data": {
            "text/plain": [
              "<Figure size 640x480 with 1 Axes>"
            ],
            "image/png": "[encoded data removed]"
          },
          "metadata": {}
        }
      ]
    }
  ]
}