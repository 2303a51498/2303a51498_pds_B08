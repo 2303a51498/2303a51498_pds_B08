{
  "nbformat": 4,
  "nbformat_minor": 0,
  "metadata": {
    "colab": {
      "provenance": [],
      "authorship_tag": "ABX9TyN+TOhgfaCpBm0Sexe0/txK",
      "include_colab_link": true
    },
    "kernelspec": {
      "name": "python3",
      "display_name": "Python 3"
    },
    "language_info": {
      "name": "python"
    }
  },
  "cells": [
    {
      "cell_type": "markdown",
      "metadata": {
        "id": "view-in-github",
        "colab_type": "text"
      },
      "source": [
        "<a href=\"https://colab.research.google.com/github/2303a51498/2303a51498_pds_B08/blob/main/lab4.ipynb\" target=\"_parent\"><img src=\"https://colab.research.google.com/assets/colab-badge.svg\" alt=\"Open In Colab\"/></a>"
      ]
    },
    {
      "cell_type": "markdown",
      "source": [
        "student score"
      ],
      "metadata": {
        "id": "Qs0nZWrT_7Lc"
      }
    },
    {
      "cell_type": "code",
      "source": [
        "import pandas as pd\n",
        "\n",
        "df = pd.read_csv(\"/lab4,studentscore.csv\")\n",
        "df.columns = df.columns.str.strip()\n",
        "df_filled = df.fillna(df.mean(numeric_only=True))\n",
        "\n",
        "\n",
        "filtered_students = df_filled[(df_filled.drop(columns=['name']) > 75).all(axis=1)]\n",
        "\n",
        "print(\"Students scoring more than 75 in all subjects:\")\n",
        "print(filtered_students)\n",
        "filtered_students.to_excel(\"filtered_students.xlsx\",index=False)\n",
        "print(df)"
      ],
      "metadata": {
        "colab": {
          "base_uri": "https://localhost:8080/"
        },
        "id": "I41A4hfS--Hb",
        "outputId": "6579c908-c0e9-4312-d995-a62262e2f4d1"
      },
      "execution_count": 10,
      "outputs": [
        {
          "output_type": "stream",
          "name": "stdout",
          "text": [
            "Students scoring more than 75 in all subjects:\n",
            "   student_id     name      maths  science  english\n",
            "0        1498  sahithi  99.000000       88    100.0\n",
            "1        1455    sanju  89.000000       77    100.0\n",
            "5        1819    vigna  77.166667       78     93.0\n",
            "   student_id     name  maths  science  english\n",
            "0        1498  sahithi   99.0       88    100.0\n",
            "1        1455    sanju   89.0       77    100.0\n",
            "2        1462   sindhu   67.0       67     88.0\n",
            "3        9876      sai   55.0       86      NaN\n",
            "4        1234   rakesh   87.0       98     68.0\n",
            "5        1819    vigna    NaN       78     93.0\n",
            "6        4444   pragna   66.0       96     84.0\n"
          ]
        }
      ]
    },
    {
      "cell_type": "markdown",
      "source": [
        "Hospital Patient Records"
      ],
      "metadata": {
        "id": "fkzyXhqaABUY"
      }
    },
    {
      "cell_type": "code",
      "source": [
        "import pandas as pd\n",
        "df = pd.read_csv(\"/HospitalPatientRecords.csv\")\n",
        "df[\"age\"] = df[\"age\"].fillna(df[\"age\"].median())\n",
        "filtered = df[(df[\"gender\"].str.lower() == \"female\") &\n",
        "              (df[\"age\"] > 50) &\n",
        "                            (df[\"diagnosis\"].str.lower() == \"diabetes\")]\n",
        "print(\"Female patients above 50 diagnosed with Diabetes:\")\n",
        "print(filtered)\n",
        "filtered.to_csv(\"filtered_patients.csv\",index=False)\n",
        "print(df)"
      ],
      "metadata": {
        "colab": {
          "base_uri": "https://localhost:8080/"
        },
        "id": "cHyA1BYk_5jA",
        "outputId": "b33a2431-7038-488e-f059-edb7d5772171"
      },
      "execution_count": 18,
      "outputs": [
        {
          "output_type": "stream",
          "name": "stdout",
          "text": [
            "Female patients above 50 diagnosed with Diabetes:\n",
            "Empty DataFrame\n",
            "Columns: [patient_id, name, age, gender, diagnosis, addmission_date]\n",
            "Index: []\n",
            "   patient_id name   age  gender       diagnosis addmission_date\n",
            "0         123    a  77.0  female     heart_issue      08-08-2025\n",
            "1         122    n  43.0    male          cancer      07-02-2025\n",
            "2         433    b  22.0    male     lung cancer      26-05-2025\n",
            "3         877    h  32.5  female    brain stroke      15-08-2025\n",
            "4          67    d  21.0    male         high bp      10-02-2025\n",
            "5          23    s  65.0    male  kidney failure      23-10-2024\n",
            "6         766    e  12.0    male           fever      22-05-2025\n"
          ]
        }
      ]
    }
  ]
}