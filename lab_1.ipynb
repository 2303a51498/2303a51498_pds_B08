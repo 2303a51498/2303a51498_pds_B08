{
  "nbformat": 4,
  "nbformat_minor": 0,
  "metadata": {
    "colab": {
      "provenance": [],
      "authorship_tag": "ABX9TyO/nZU4EKRo4ZnwdLSkCiRx",
      "include_colab_link": true
    },
    "kernelspec": {
      "name": "python3",
      "display_name": "Python 3"
    },
    "language_info": {
      "name": "python"
    }
  },
  "cells": [
    {
      "cell_type": "markdown",
      "metadata": {
        "id": "view-in-github",
        "colab_type": "text"
      },
      "source": [
        "<a href=\"https://colab.research.google.com/github/2303a51498/2303a51498_pds_B08/blob/main/lab_1.ipynb\" target=\"_parent\"><img src=\"https://colab.research.google.com/assets/colab-badge.svg\" alt=\"Open In Colab\"/></a>"
      ]
    },
    {
      "cell_type": "markdown",
      "source": [
        "1st question"
      ],
      "metadata": {
        "id": "xre7XnnFuJbX"
      }
    },
    {
      "cell_type": "code",
      "execution_count": null,
      "metadata": {
        "id": "wqqUXSZrsPuu"
      },
      "outputs": [],
      "source": [
        "def factorial(n):\n",
        "  if (n==0) or (n==1):\n",
        "    return 1\n",
        "  else:\n",
        "      return n* factorial(n-1)\n",
        "num=5\n",
        "print(f\"factorial of {num}={factorial(num)}\")"
      ]
    },
    {
      "cell_type": "code",
      "source": [
        "def factorial(n):\n",
        "      print(f\"factorial({n}) called\")\n",
        "      if n == 0 or n == 1:\n",
        "          print(f\"factorial({n}) returning 1\")\n",
        "          return 1\n",
        "      else:\n",
        "          result = n * factorial(n - 1)\n",
        "          print(f\"factorial({n}) returning {result}\")\n",
        "          return result\n",
        "\n",
        "\n",
        "num = 4\n",
        "print(\"Final Answer:\", factorial(num))"
      ],
      "metadata": {
        "id": "IfAuQWV8tC0S"
      },
      "execution_count": null,
      "outputs": []
    },
    {
      "cell_type": "code",
      "source": [
        "def factorial(n, depth=0):\n",
        "     indent = \"  \" * depth\n",
        "     print(f\"{indent}factorial({n}) called\")\n",
        "\n",
        "     if n == 0 or n == 1:\n",
        "         print(f\"{indent}Returning 1 (base case)\")\n",
        "         return 1\n",
        "     else:\n",
        "        result = n * factorial(n - 1, depth + 1)\n",
        "        print(f\"{indent}Returning {result} from factorial({n})\")\n",
        "        return result\n",
        "\n",
        "\n",
        "num = 5\n",
        "print(\"Final Answer:\", factorial(num))"
      ],
      "metadata": {
        "id": "t1hLpweytuLq"
      },
      "execution_count": null,
      "outputs": []
    },
    {
      "cell_type": "code",
      "source": [
        "def factorial(n, depth=0):\n",
        "    indent = \"  \" * depth\n",
        "    print(f\"{indent}factorial({n}) called\")\n",
        "\n",
        "    if n == 0 or n == 1:\n",
        "        print(f\"{indent}Returning 1 (base case)\")\n",
        "        return 1\n",
        "    else:\n",
        "        result = n * factorial(n - 1, depth + 1)\n",
        "        print(f\"{indent}Returning {result} from factorial({n})\")\n",
        "        return result\n",
        "\n",
        "\n",
        "num = int(input(\"Enter a number (≤ 10): \"))\n",
        "if num > 10:\n",
        "    print(\"Number too large! Please enter ≤ 10.\")\n",
        "else:\n",
        "    print(\"Final Answer:\", factorial(num))"
      ],
      "metadata": {
        "id": "1VCgjfbUzEHK"
      },
      "execution_count": null,
      "outputs": []
    },
    {
      "cell_type": "code",
      "source": [],
      "metadata": {
        "id": "lMGDLC_d0Zpa"
      },
      "execution_count": null,
      "outputs": []
    }
  ]
}