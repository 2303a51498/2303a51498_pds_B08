{
  "nbformat": 4,
  "nbformat_minor": 0,
  "metadata": {
    "colab": {
      "provenance": [],
      "authorship_tag": "ABX9TyOn8qmu5Fue9oxKuF/Aq7wp",
      "include_colab_link": true
    },
    "kernelspec": {
      "name": "python3",
      "display_name": "Python 3"
    },
    "language_info": {
      "name": "python"
    }
  },
  "cells": [
    {
      "cell_type": "markdown",
      "metadata": {
        "id": "view-in-github",
        "colab_type": "text"
      },
      "source": [
        "<a href=\"https://colab.research.google.com/github/2303a51498/2303a51498_pds_B08/blob/main/pds_lab_2.ipynb\" target=\"_parent\"><img src=\"https://colab.research.google.com/assets/colab-badge.svg\" alt=\"Open In Colab\"/></a>"
      ]
    },
    {
      "cell_type": "code",
      "execution_count": 7,
      "metadata": {
        "id": "-PvDsU_BwLBd",
        "colab": {
          "base_uri": "https://localhost:8080/"
        },
        "outputId": "35e3f799-fcdf-47e2-be73-761eec07cfa9"
      },
      "outputs": [
        {
          "output_type": "stream",
          "name": "stdout",
          "text": [
            "2d array 1:\n",
            " [[3 2 6]\n",
            " [6 8 4]]\n",
            "2d array 2:\n",
            " [[6 6 4]\n",
            " [2 5 8]]\n",
            "addition:\n",
            " [[ 9  8 10]\n",
            " [ 8 13 12]]\n",
            "subtraction of arr1-arr2:\n",
            " [[-3 -4  2]\n",
            " [ 4  3 -4]]\n",
            "subtraction of arr2-arr1:\n",
            " [[ 3  4 -2]\n",
            " [-4 -3  4]]\n"
          ]
        }
      ],
      "source": [
        "import numpy as np\n",
        "array2d_1= np.array([[3,2,6],[6,8,4]])\n",
        "array2d_2= np.array([[6,6,4],[2,5,8]])\n",
        "print(\"2d array 1:\\n\", array2d_1)\n",
        "print(\"2d array 2:\\n\", array2d_2)\n",
        "\n",
        "print(\"addition:\\n\",np.add(array2d_1,array2d_2))\n",
        "print(\"subtraction of arr1-arr2:\\n\", np.subtract(array2d_1,array2d_2))\n",
        "print(\"subtraction of arr2-arr1:\\n\", np.subtract(array2d_2,array2d_1))"
      ]
    },
    {
      "cell_type": "code",
      "source": [
        "import numpy as np\n",
        "array2d_1= np.array([[3,5,7],[7,3,9]])\n",
        "array2d_2=np. array([[3,5],[7,3],[4,2]])\n",
        "print(\"2d array 1\\n\", array2d_1)\n",
        "print(\"2d array 2\\n\", array2d_2)\n",
        "print(\"dot product:\\n\", np.dot(array2d_1, array2d_2))\n"
      ],
      "metadata": {
        "colab": {
          "base_uri": "https://localhost:8080/"
        },
        "id": "MzmyJ6Hv1S9r",
        "outputId": "74036c3f-8b7d-44cc-89d0-3cfcf1ff6262"
      },
      "execution_count": 11,
      "outputs": [
        {
          "output_type": "stream",
          "name": "stdout",
          "text": [
            "2d array 1\n",
            " [[3 5 7]\n",
            " [7 3 9]]\n",
            "2d array 2\n",
            " [[3 5]\n",
            " [7 3]\n",
            " [4 2]]\n",
            "dot product:\n",
            " [[72 44]\n",
            " [78 62]]\n"
          ]
        }
      ]
    }
  ]
}