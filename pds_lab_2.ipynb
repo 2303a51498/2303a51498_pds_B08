{
  "nbformat": 4,
  "nbformat_minor": 0,
  "metadata": {
    "colab": {
      "provenance": [],
      "authorship_tag": "ABX9TyNzFe7r1QQOfsFsr70PoN8x",
      "include_colab_link": true
    },
    "kernelspec": {
      "name": "python3",
      "display_name": "Python 3"
    },
    "language_info": {
      "name": "python"
    }
  },
  "cells": [
    {
      "cell_type": "markdown",
      "metadata": {
        "id": "view-in-github",
        "colab_type": "text"
      },
      "source": [
        "<a href=\"https://colab.research.google.com/github/2303a51498/2303a51498_pds_B08/blob/main/pds_lab_2.ipynb\" target=\"_parent\"><img src=\"https://colab.research.google.com/assets/colab-badge.svg\" alt=\"Open In Colab\"/></a>"
      ]
    },
    {
      "cell_type": "code",
      "source": [
        "import numpy as np\n",
        "array2d_1= np.array([[3,5,7],[7,3,9]])\n",
        "array2d_2=np. array([[3,5],[7,3],[4,2]])\n",
        "print(\"2d array 1\\n\", array2d_1)\n",
        "print(\"2d array 2\\n\", array2d_2)\n",
        "print(\"dot product:\\n\", np.dot(array2d_1, array2d_2))\n"
      ],
      "metadata": {
        "colab": {
          "base_uri": "https://localhost:8080/"
        },
        "id": "MzmyJ6Hv1S9r",
        "outputId": "74036c3f-8b7d-44cc-89d0-3cfcf1ff6262"
      },
      "execution_count": null,
      "outputs": [
        {
          "output_type": "stream",
          "name": "stdout",
          "text": [
            "2d array 1\n",
            " [[3 5 7]\n",
            " [7 3 9]]\n",
            "2d array 2\n",
            " [[3 5]\n",
            " [7 3]\n",
            " [4 2]]\n",
            "dot product:\n",
            " [[72 44]\n",
            " [78 62]]\n"
          ]
        }
      ]
    }
  ]
}