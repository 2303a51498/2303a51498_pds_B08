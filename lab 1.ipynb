{
  "nbformat": 4,
  "nbformat_minor": 0,
  "metadata": {
    "colab": {
      "provenance": [],
      "authorship_tag": "ABX9TyPh67KABxv1IQPzoxOqsM9V",
      "include_colab_link": true
    },
    "kernelspec": {
      "name": "python3",
      "display_name": "Python 3"
    },
    "language_info": {
      "name": "python"
    }
  },
  "cells": [
    {
      "cell_type": "markdown",
      "metadata": {
        "id": "view-in-github",
        "colab_type": "text"
      },
      "source": [
        "<a href=\"https://colab.research.google.com/github/2303a51498/2303a51498_pds_B08/blob/main/lab%201.ipynb\" target=\"_parent\"><img src=\"https://colab.research.google.com/assets/colab-badge.svg\" alt=\"Open In Colab\"/></a>"
      ]
    },
    {
      "cell_type": "markdown",
      "source": [
        "1st question"
      ],
      "metadata": {
        "id": "CepuiIo5Kray"
      }
    },
    {
      "cell_type": "code",
      "execution_count": null,
      "metadata": {
        "colab": {
          "base_uri": "https://localhost:8080/"
        },
        "id": "VvwGbvXyKMIF",
        "outputId": "79fc3dd7-7eeb-4e62-ad76-144237ba0e90"
      },
      "outputs": [
        {
          "output_type": "stream",
          "name": "stdout",
          "text": [
            "Factorial of 5 = 120\n"
          ]
        }
      ],
      "source": [
        "def factorial(n):\n",
        "    if n == 0 or n == 1:\n",
        "        return 1\n",
        "    else:\n",
        "        return n * factorial(n - 1)\n",
        "\n",
        "\n",
        "num = 5\n",
        "print(f\"Factorial of {num} = {factorial(num)}\")"
      ]
    },
    {
      "cell_type": "code",
      "source": [
        "def factorial(n):\n",
        "    print(f\"factorial({n}) called\")\n",
        "    if n == 0 or n == 1:\n",
        "        print(f\"factorial({n}) returning 1\")\n",
        "        return 1\n",
        "    else:\n",
        "        result = n * factorial(n - 1)\n",
        "        print(f\"factorial({n}) returning {result}\")\n",
        "        return result\n",
        "\n",
        "\n",
        "num = 4\n",
        "print(\"Final Answer:\", factorial(num))"
      ],
      "metadata": {
        "colab": {
          "base_uri": "https://localhost:8080/"
        },
        "id": "AIadQBcvL2-G",
        "outputId": "54510870-2651-400f-fb97-299fd3d485b3"
      },
      "execution_count": null,
      "outputs": [
        {
          "output_type": "stream",
          "name": "stdout",
          "text": [
            "factorial(4) called\n",
            "factorial(3) called\n",
            "factorial(2) called\n",
            "factorial(1) called\n",
            "factorial(1) returning 1\n",
            "factorial(2) returning 2\n",
            "factorial(3) returning 6\n",
            "factorial(4) returning 24\n",
            "Final Answer: 24\n"
          ]
        }
      ]
    },
    {
      "cell_type": "code",
      "source": [
        "def factorial(n, depth=0):\n",
        "    indent = \"  \" * depth\n",
        "    print(f\"{indent}factorial({n}) called\")\n",
        "\n",
        "    if n == 0 or n == 1:\n",
        "        print(f\"{indent}Returning 1 (base case)\")\n",
        "        return 1\n",
        "    else:\n",
        "        result = n * factorial(n - 1, depth + 1)\n",
        "        print(f\"{indent}Returning {result} from factorial({n})\")\n",
        "        return result\n",
        "\n",
        "\n",
        "num = 5\n",
        "print(\"Final Answer:\", factorial(num))"
      ],
      "metadata": {
        "colab": {
          "base_uri": "https://localhost:8080/"
        },
        "id": "qWbYAFFEMJMk",
        "outputId": "6055b920-78a1-4de5-94e4-6ad9a4fb0356"
      },
      "execution_count": null,
      "outputs": [
        {
          "output_type": "stream",
          "name": "stdout",
          "text": [
            "factorial(5) called\n",
            "  factorial(4) called\n",
            "    factorial(3) called\n",
            "      factorial(2) called\n",
            "        factorial(1) called\n",
            "        Returning 1 (base case)\n",
            "      Returning 2 from factorial(2)\n",
            "    Returning 6 from factorial(3)\n",
            "  Returning 24 from factorial(4)\n",
            "Returning 120 from factorial(5)\n",
            "Final Answer: 120\n"
          ]
        }
      ]
    },
    {
      "cell_type": "code",
      "source": [
        "def factorial(n, depth=0):\n",
        "      indent = \"  \" * depth\n",
        "      print(f\"{indent}factorial({n}) called\")\n",
        "\n",
        "      if n == 0 or n == 1:\n",
        "         print(f\"{indent}Returning 1 (base case)\")\n",
        "         return 1\n",
        "      else:\n",
        "          result = n * factorial(n - 1, depth + 1)\n",
        "          print(f\"{indent}Returning {result} from factorial({n})\")\n",
        "          return result\n",
        "\n",
        "\n",
        "num = 5   # 🔹 change this value to test other numbers\n",
        "\n",
        "if num > 10:\n",
        "     print(\"Number too large! Please enter ≤ 10.\")\n",
        "else:\n",
        "     print(\"Final Answer:\", factorial(num))\n"
      ],
      "metadata": {
        "colab": {
          "base_uri": "https://localhost:8080/"
        },
        "id": "uBqoo4nD3AFn",
        "outputId": "37b13a82-f2b3-4fb7-91ab-2f9252cc7da7"
      },
      "execution_count": 2,
      "outputs": [
        {
          "output_type": "stream",
          "name": "stdout",
          "text": [
            "factorial(5) called\n",
            "  factorial(4) called\n",
            "    factorial(3) called\n",
            "      factorial(2) called\n",
            "        factorial(1) called\n",
            "        Returning 1 (base case)\n",
            "      Returning 2 from factorial(2)\n",
            "    Returning 6 from factorial(3)\n",
            "  Returning 24 from factorial(4)\n",
            "Returning 120 from factorial(5)\n",
            "Final Answer: 120\n"
          ]
        }
      ]
    },
    {
      "cell_type": "code",
      "source": [
        "def factorial(n, depth=0):\n",
        "    indent = \"  \" * depth\n",
        "    print(f\"{indent}factorial({n}) called\")\n",
        "\n",
        "    if n == 0 or n == 1:\n",
        "         print(f\"{indent}--> Base Case reached! Returning 1\")\n",
        "         return 1\n",
        "    else:\n",
        "         print(f\"{indent}--> Recursive Case: {n} * factorial({n-1})\")\n",
        "         result = n * factorial(n - 1, depth + 1)\n",
        "         print(f\"{indent}Returning {result} from factorial({n})\")\n",
        "         return result\n",
        "\n",
        "\n",
        "num = 4\n",
        "print(\"Final Answer:\", factorial(num))"
      ],
      "metadata": {
        "colab": {
          "base_uri": "https://localhost:8080/"
        },
        "id": "wFK48xH9NAbQ",
        "outputId": "10b05b05-1cae-4903-8be2-b05d11d17619"
      },
      "execution_count": null,
      "outputs": [
        {
          "output_type": "stream",
          "name": "stdout",
          "text": [
            "factorial(4) called\n",
            "--> Recursive Case: 4 * factorial(3)\n",
            "  factorial(3) called\n",
            "  --> Recursive Case: 3 * factorial(2)\n",
            "    factorial(2) called\n",
            "    --> Recursive Case: 2 * factorial(1)\n",
            "      factorial(1) called\n",
            "      --> Base Case reached! Returning 1\n",
            "    Returning 2 from factorial(2)\n",
            "  Returning 6 from factorial(3)\n",
            "Returning 24 from factorial(4)\n",
            "Final Answer: 24\n"
          ]
        }
      ]
    },
    {
      "cell_type": "code",
      "source": [
        "def factorial(n, depth=0):\n",
        "    indent = \"  \" * depth\n",
        "    if n == 0 or n == 1:\n",
        "        print(f\"{indent}{n} -> 1 (base case)\")\n",
        "        return 1\n",
        "    else:\n",
        "        print(f\"{indent}{n} -> {n} * factorial({n-1})\")\n",
        "        result = n * factorial(n - 1, depth + 1)\n",
        "        print(f\"{indent}Returning {result}\")\n",
        "        return result\n",
        "\n",
        "num = 6\n",
        "print(\"Call Tree:\")\n",
        "print(\"Final Answer:\", factorial(num))"
      ],
      "metadata": {
        "colab": {
          "base_uri": "https://localhost:8080/"
        },
        "id": "QxpK88EwNYmM",
        "outputId": "f1c1ae95-ca85-40a9-dfb0-bdb3a51da7e9"
      },
      "execution_count": null,
      "outputs": [
        {
          "output_type": "stream",
          "name": "stdout",
          "text": [
            "Call Tree:\n",
            "6 -> 6 * factorial(5)\n",
            "  5 -> 5 * factorial(4)\n",
            "    4 -> 4 * factorial(3)\n",
            "      3 -> 3 * factorial(2)\n",
            "        2 -> 2 * factorial(1)\n",
            "          1 -> 1 (base case)\n",
            "        Returning 2\n",
            "      Returning 6\n",
            "    Returning 24\n",
            "  Returning 120\n",
            "Returning 720\n",
            "Final Answer: 720\n"
          ]
        }
      ]
    },
    {
      "cell_type": "markdown",
      "source": [
        "2nd question"
      ],
      "metadata": {
        "id": "fzh90ccXQXE2"
      }
    },
    {
      "cell_type": "code",
      "source": [
        "def factorial_recursive(n):\n",
        "    if n == 0 or n == 1:\n",
        "         return 1\n",
        "    return n * factorial_recursive(n - 1)\n",
        "\n",
        "\n",
        "print(\"Recursive:\", factorial_recursive(5))"
      ],
      "metadata": {
        "colab": {
          "base_uri": "https://localhost:8080/"
        },
        "id": "r9ZTjjMXN8Y1",
        "outputId": "ae8371fa-0bb8-4373-e22e-3f0290f61694"
      },
      "execution_count": null,
      "outputs": [
        {
          "output_type": "stream",
          "name": "stdout",
          "text": [
            "Recursive: 120\n"
          ]
        }
      ]
    },
    {
      "cell_type": "code",
      "source": [
        "def factorial_iterative(n):\n",
        "    result = 1\n",
        "    for i in range(2, n + 1):\n",
        "        result *= i\n",
        "    return result\n",
        "\n",
        "\n",
        "print(\"Iterative:\", factorial_iterative(5))"
      ],
      "metadata": {
        "colab": {
          "base_uri": "https://localhost:8080/"
        },
        "id": "mIo1NVQtOI7u",
        "outputId": "6e776dd3-fe65-41fb-8f04-b9a1673b6057"
      },
      "execution_count": null,
      "outputs": [
        {
          "output_type": "stream",
          "name": "stdout",
          "text": [
            "Iterative: 120\n"
          ]
        }
      ]
    },
    {
      "cell_type": "code",
      "source": [
        "import time\n",
        "\n",
        "def factorial_recursive(n):\n",
        "    if n == 0 or n == 1:\n",
        "       return 1\n",
        "    return n * factorial_recursive(n - 1)\n",
        "\n",
        "def factorial_iterative(n):\n",
        "    result = 1\n",
        "    for i in range(2, n + 1):\n",
        "        result *= i\n",
        "    return result\n",
        "\n",
        "n = 10\n",
        "\n",
        "start = time.time()\n",
        "factorial_recursive(n)\n",
        "end = time.time()\n",
        "print(\"Recursive time:\", end - start)\n",
        "\n",
        "start = time.time()\n",
        "factorial_iterative(n)\n",
        "end = time.time()\n",
        "print(\"Iterative time:\", end - start)"
      ],
      "metadata": {
        "colab": {
          "base_uri": "https://localhost:8080/"
        },
        "id": "ZLp7tvN3OquB",
        "outputId": "1fc7b91b-b25a-488f-9d06-eb038409a28e"
      },
      "execution_count": null,
      "outputs": [
        {
          "output_type": "stream",
          "name": "stdout",
          "text": [
            "Recursive time: 0.00011706352233886719\n",
            "Iterative time: 8.511543273925781e-05\n"
          ]
        }
      ]
    },
    {
      "cell_type": "code",
      "source": [
        "import sys\n",
        "\n",
        "def factorial_iterative(n):\n",
        "    result = 1\n",
        "    for i in range(2, n + 1):\n",
        "        result *= i\n",
        "    return result\n",
        "\n",
        "num = 6\n",
        "result = factorial_iterative(num)\n",
        "print(\"Factorial:\", result)\n",
        "print(\"Memory used:\", sys.getsizeof(result), \"bytes\")"
      ],
      "metadata": {
        "colab": {
          "base_uri": "https://localhost:8080/"
        },
        "id": "mgviLlogPPs7",
        "outputId": "dca847bb-e317-49e2-f18c-9397c2243cbc"
      },
      "execution_count": null,
      "outputs": [
        {
          "output_type": "stream",
          "name": "stdout",
          "text": [
            "Factorial: 720\n",
            "Memory used: 28 bytes\n"
          ]
        }
      ]
    },
    {
      "cell_type": "code",
      "source": [
        "def factorial_iterative(n):\n",
        "    if not isinstance(n, int) or n < 0:\n",
        "        return \"Invalid input! Enter a non-negative integer.\"\n",
        "    result = 1\n",
        "    for i in range(2, n + 1):\n",
        "         result *= i\n",
        "    return result\n",
        "\n",
        "print(factorial_iterative(5))\n",
        "print(factorial_iterative(-3))"
      ],
      "metadata": {
        "colab": {
          "base_uri": "https://localhost:8080/"
        },
        "id": "A-wc7zfaPeeo",
        "outputId": "58d19e62-f262-428c-ab81-9c6899d671ca"
      },
      "execution_count": null,
      "outputs": [
        {
          "output_type": "stream",
          "name": "stdout",
          "text": [
            "120\n",
            "Invalid input! Enter a non-negative integer.\n"
          ]
        }
      ]
    },
    {
      "cell_type": "code",
      "source": [
        "def factorial_recursive(n):\n",
        "    if n == 0 or n == 1:\n",
        "        return 1\n",
        "    return n * factorial_recursive(n - 1)\n",
        "\n",
        "def factorial_iterative(n):\n",
        "     result = 1\n",
        "     for i in range(2, n + 1):\n",
        "          result *= i\n",
        "     return result\n",
        "\n",
        "n = 5\n",
        "rec = factorial_recursive(n)\n",
        "itr = factorial_iterative(n)\n",
        "\n",
        "print(\"\\nComparison Table\")\n",
        "print(f\"{'Method':<12}{'Result'}\")\n",
        "print(\"-\" * 20)\n",
        "print(f\"{'Recursive':<12}{rec}\")\n",
        "print(f\"{'Iterative':<12}{itr}\")"
      ],
      "metadata": {
        "colab": {
          "base_uri": "https://localhost:8080/"
        },
        "id": "ipO-4XGlP252",
        "outputId": "4114c76f-9b39-413d-b5a3-c32c8a54044a"
      },
      "execution_count": null,
      "outputs": [
        {
          "output_type": "stream",
          "name": "stdout",
          "text": [
            "\n",
            "Comparison Table\n",
            "Method      Result\n",
            "--------------------\n",
            "Recursive   120\n",
            "Iterative   120\n"
          ]
        }
      ]
    },
    {
      "cell_type": "markdown",
      "source": [
        "3rd question"
      ],
      "metadata": {
        "id": "cWzYZjYHQfsV"
      }
    },
    {
      "cell_type": "code",
      "source": [
        "def factorial(n):\n",
        "    if n == 0 or n == 1:\n",
        "        return 1\n",
        "    return n * factorial(n - 1)\n",
        "\n",
        "# Example\n",
        "print(\"Factorial of 5:\", factorial(5))"
      ],
      "metadata": {
        "colab": {
          "base_uri": "https://localhost:8080/"
        },
        "id": "-BtuGe9bQdHU",
        "outputId": "be4a9fa0-ab8b-40fc-b9f1-c12183f737b1"
      },
      "execution_count": null,
      "outputs": [
        {
          "output_type": "stream",
          "name": "stdout",
          "text": [
            "Factorial of 5: 120\n"
          ]
        }
      ]
    },
    {
      "cell_type": "code",
      "source": [
        "import math\n",
        "\n",
        "# Set values manually (change these numbers to test)\n",
        "n = 5\n",
        "r = 3\n",
        "\n",
        "print(\"You entered n =\", n, \"and r =\", r)\n",
        "\n",
        "if r > n:\n",
        "    print(\"⚠️ r cannot be greater than n\")\n",
        "else:\n",
        "        # Permutations (nPr) = n! / (n-r)!\n",
        "    nPr = math.factorial(n) // math.factorial(n - r)\n",
        "\n",
        "                # Combinations (nCr) = n! / (r! * (n-r)!)\n",
        "    nCr = math.factorial(n) // (math.factorial(r) * math.factorial(n - r))\n",
        "\n",
        "    print(\"Permutations (nPr):\", nPr)\n",
        "    print(\"Combinations (nCr):\", nCr)\n"
      ],
      "metadata": {
        "colab": {
          "base_uri": "https://localhost:8080/"
        },
        "id": "kDUvU94o3yaD",
        "outputId": "76d07ac4-2325-4495-ac15-4aede9e21677"
      },
      "execution_count": 3,
      "outputs": [
        {
          "output_type": "stream",
          "name": "stdout",
          "text": [
            "You entered n = 5 and r = 3\n",
            "Permutations (nPr): 60\n",
            "Combinations (nCr): 10\n"
          ]
        }
      ]
    },
    {
      "cell_type": "code",
      "source": [
        "def factorial(n):\n",
        "    if n == 0 or n == 1:\n",
        "        return 1\n",
        "    return n * factorial(n - 1)\n",
        "\n",
        "n = 5\n",
        "r = 3\n",
        "nPr = factorial(n) // factorial(n - r)\n",
        "print(f\"{n}P{r} = {nPr}\")"
      ],
      "metadata": {
        "colab": {
          "base_uri": "https://localhost:8080/"
        },
        "id": "Fxsv03ckRAlb",
        "outputId": "b09b15d7-c24c-45ad-f0b8-142581d03ac0"
      },
      "execution_count": null,
      "outputs": [
        {
          "output_type": "stream",
          "name": "stdout",
          "text": [
            "5P3 = 60\n"
          ]
        }
      ]
    },
    {
      "cell_type": "code",
      "source": [
        "def factorial(n):\n",
        "    if n == 0 or n == 1:\n",
        "        return 1\n",
        "    return n * factorial(n - 1)\n",
        "    n = 5   # change this value\n",
        "    r = 3   # change this value\n",
        "\n",
        "    if n < r:\n",
        "        print(\"Invalid! n must be greater than or equal to r.\")\n",
        "    else:\n",
        "            print(f\"Valid input: n = {n}, r = {r}\")\n",
        "            nPr = factorial(n) // factorial(n - r)\n",
        "            nCr = factorial(n) // (factorial(r) * factorial(n - r))\n",
        "            print(\"Permutations (nPr):\", nPr)\n",
        "            print(\"Combinations (nCr):\", nCr)"
      ],
      "metadata": {
        "id": "VFM9worK4QPe"
      },
      "execution_count": 4,
      "outputs": []
    },
    {
      "cell_type": "code",
      "source": [
        "def factorial(n):\n",
        "   if n == 0 or n == 1:\n",
        "       print(f\"factorial({n}) = 1 (base case)\")\n",
        "       return 1\n",
        "   else:\n",
        "       print(f\"factorial({n}) = {n} * factorial({n-1})\")\n",
        "       return n * factorial(n - 1)\n",
        "\n",
        "def permutations(n, r):\n",
        "    print(f\"\\nCalculating {n}P{r}:\")\n",
        "    num = factorial(n)\n",
        "    den = factorial(n - r)\n",
        "    result = num // den\n",
        "    print(f\"\\n{n}P{r} = {num} / {den} = {result}\")\n",
        "    return result\n",
        "\n",
        "\n",
        "permutations(5, 3)"
      ],
      "metadata": {
        "colab": {
          "base_uri": "https://localhost:8080/"
        },
        "id": "91XVI_MYScZR",
        "outputId": "f27e1feb-fda1-4e35-e53e-77d155898b4f"
      },
      "execution_count": null,
      "outputs": [
        {
          "output_type": "stream",
          "name": "stdout",
          "text": [
            "\n",
            "Calculating 5P3:\n",
            "factorial(5) = 5 * factorial(4)\n",
            "factorial(4) = 4 * factorial(3)\n",
            "factorial(3) = 3 * factorial(2)\n",
            "factorial(2) = 2 * factorial(1)\n",
            "factorial(1) = 1 (base case)\n",
            "factorial(2) = 2 * factorial(1)\n",
            "factorial(1) = 1 (base case)\n",
            "\n",
            "5P3 = 120 / 2 = 60\n"
          ]
        },
        {
          "output_type": "execute_result",
          "data": {
            "text/plain": [
              "60"
            ]
          },
          "metadata": {},
          "execution_count": 13
        }
      ]
    },
    {
      "cell_type": "markdown",
      "source": [
        "4th question"
      ],
      "metadata": {
        "id": "6k8h_QDvTCxc"
      }
    },
    {
      "cell_type": "code",
      "source": [
        "def factorial_recursive(n):\n",
        "    if n == 0 or n == 1:\n",
        "        return 1\n",
        "    return n * factorial_recursive(n - 1)\n",
        "\n",
        "print(\"Recursive factorial of 5:\", factorial_recursive(5))"
      ],
      "metadata": {
        "colab": {
          "base_uri": "https://localhost:8080/"
        },
        "id": "QxtepG39TEnL",
        "outputId": "5bc38170-3132-40d9-b181-923ad09c6046"
      },
      "execution_count": null,
      "outputs": [
        {
          "output_type": "stream",
          "name": "stdout",
          "text": [
            "Recursive factorial of 5: 120\n"
          ]
        }
      ]
    },
    {
      "cell_type": "code",
      "source": [
        "n = 500\n",
        "if n > 998:\n",
        "    print(\" Warning: n is too large! May cause recursion depth error.\")\n",
        "else:\n",
        "    print(\"You entered:\", n)\n",
        "\n",
        "\n",
        "    if n > 998:\n",
        "        print(\"Warning: n is too large! May cause recursion depth error.\")\n",
        "    else:\n",
        "            print(\"You entered:\", n)"
      ],
      "metadata": {
        "colab": {
          "base_uri": "https://localhost:8080/"
        },
        "id": "BpZP_AFpTZIL",
        "outputId": "b7985baa-6f6c-4659-dd29-a6263b428fed"
      },
      "execution_count": 7,
      "outputs": [
        {
          "output_type": "stream",
          "name": "stdout",
          "text": [
            "You entered: 500\n",
            "You entered: 500\n"
          ]
        }
      ]
    },
    {
      "cell_type": "code",
      "source": [
        "def factorial_recursive(n):\n",
        "   if n == 0 or n == 1:\n",
        "       return 1\n",
        "       return n * factorial_recursive(n - 1)\n",
        "\n",
        "try:\n",
        "    print(\"Factorial of 1000:\", factorial_recursive(1000))\n",
        "except RecursionError:\n",
        "    print(\"RecursionError: Maximum recursion depth reached!\")"
      ],
      "metadata": {
        "colab": {
          "base_uri": "https://localhost:8080/"
        },
        "id": "zuE4lCpGTiqX",
        "outputId": "88ec9789-ae9d-4081-e9cd-05acba87a363"
      },
      "execution_count": null,
      "outputs": [
        {
          "output_type": "stream",
          "name": "stdout",
          "text": [
            "Factorial of 1000: None\n"
          ]
        }
      ]
    },
    {
      "cell_type": "code",
      "source": [
        "def factorial_recursive(n):\n",
        "   if n == 0 or n == 1:\n",
        "       return 1\n",
        "   return n * factorial_recursive(n - 1)\n",
        "\n",
        "def factorial_iterative(n):\n",
        "   result = 1\n",
        "   for i in range(2, n+1):\n",
        "       result *= i\n",
        "   return result\n",
        "\n",
        "n = 10\n",
        "print(\"Recursive:\", factorial_recursive(n))\n",
        "print(\"Iterative:\", factorial_iterative(n))"
      ],
      "metadata": {
        "colab": {
          "base_uri": "https://localhost:8080/"
        },
        "id": "Q_g_zpMdT07Z",
        "outputId": "9b333f22-31c2-46eb-f051-9442a8959bda"
      },
      "execution_count": null,
      "outputs": [
        {
          "output_type": "stream",
          "name": "stdout",
          "text": [
            "Recursive: 3628800\n",
            "Iterative: 3628800\n"
          ]
        }
      ]
    },
    {
      "cell_type": "code",
      "source": [
        "import sys\n",
        "print(\"Maximum recursion depth allowed in Python:\", sys.getrecursionlimit())"
      ],
      "metadata": {
        "colab": {
          "base_uri": "https://localhost:8080/"
        },
        "id": "0tEFwWH1U1OG",
        "outputId": "449ca646-4fd0-47a0-91af-5770f994595a"
      },
      "execution_count": null,
      "outputs": [
        {
          "output_type": "stream",
          "name": "stdout",
          "text": [
            "Maximum recursion depth allowed in Python: 1000\n"
          ]
        }
      ]
    }
  ]
}